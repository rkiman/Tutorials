{
 "cells": [
  {
   "cell_type": "markdown",
   "metadata": {},
   "source": [
    "# Create a User Defined Model using astropy.modeling\n",
    "\n",
    "## Authors\n",
    "Rocio Kiman, Lia Corrales and Zé Vinícius.\n",
    "\n",
    "## Learning Goals\n",
    "* Know and understand tools to make user defined fitters with `astropy` and in which cases it could be useful\n",
    "* Learn custom fitters\n",
    "* This tutorial assumes the student knows how to fit data using `astropy.modeling`. Check the first tutorial in case you are not familiar with it [here](https://github.com/astropy/astropy-tutorials/tree/master/tutorials/notebooks/Models-Quick-Fit).\n",
    "\n",
    "## Keywords\n",
    "Modeling, User Defined Fitter, Custom Fitter \n",
    "\n",
    "## Summary\n",
    "In this tutorial, we will learn how to define a new fitter."
   ]
  },
  {
   "cell_type": "code",
   "execution_count": null,
   "metadata": {},
   "outputs": [],
   "source": [
    "import numpy as np\n",
    "import matplotlib.pyplot as plt\n",
    "from astropy.modeling.fitting import (_validate_model,\n",
    "                                      _fitter_to_model_params,\n",
    "                                      _model_to_fit_params, Fitter,\n",
    "                                      _convert_input)\n",
    "from astropy.modeling.optimizers import Simplex\n",
    "from astropy.modeling import models, fitting\n",
    "from scipy import optimize\n",
    "\n",
    "from astropy.modeling.optimizers import (SLSQP, Simplex)\n",
    "from astropy.modeling.statistic import (leastsquare)\n",
    "\n",
    "class SLSQPFitter(Fitter):\n",
    "    def __init__(self):\n",
    "        super().__init__(optimizer=SLSQP, statistic=leastsquare)\n",
    "                        \n",
    "    def errorfunc(self, fps, *args):\n",
    "        meas = args[0]\n",
    "        self.fitpars = fps\n",
    "        res = model(*args[1:]) - meas\n",
    "        return np.sum(res**2)\n",
    "    \n",
    "    def __call__(self, model, x, y , maxiter=100, epsilon=10**(-12)):\n",
    "        b = [model.bounds[key] for key in model.param_names]\n",
    "        self.fitpars = optimize.fmin_slsqp(self.errorfunc, x0=model.parameters[:],\n",
    "        args=(y, x), bounds=b)\n",
    "        return model\n",
    "\n",
    "x = np.linspace(0,1,100)\n",
    "y = 2*x\n",
    "y_err = np.random.normal(0,0.05,100)\n",
    "x_err = np.random.normal(0,0.05,100)\n",
    "\n",
    "model = models.Linear1D()\n",
    "fitter = SLSQPFitter() \n",
    "best_fit2 = fitter(model, x, y)\n",
    "\n",
    "plt.errorbar(x,y,yerr=y_err,xerr=x_err,fmt='.',zorder=0)\n",
    "plt.plot(x,best_fit2(x),'r',zorder=1)\n",
    "plt.show()"
   ]
  }
 ],
 "metadata": {
  "kernelspec": {
   "display_name": "Python 3",
   "language": "python",
   "name": "python3"
  },
  "language_info": {
   "codemirror_mode": {
    "name": "ipython",
    "version": 3
   },
   "file_extension": ".py",
   "mimetype": "text/x-python",
   "name": "python",
   "nbconvert_exporter": "python",
   "pygments_lexer": "ipython3",
   "version": "3.6.4"
  }
 },
 "nbformat": 4,
 "nbformat_minor": 2
}
